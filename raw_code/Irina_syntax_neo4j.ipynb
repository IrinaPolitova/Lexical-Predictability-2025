{
 "cells": [
  {
   "cell_type": "markdown",
   "id": "294eb579-0dad-4088-b793-2d57e674258e",
   "metadata": {},
   "source": [
    "# Синтаксические зависимости в Neo4j"
   ]
  },
  {
   "cell_type": "markdown",
   "id": "11c5a377-6a3b-48c6-805d-715586ba2295",
   "metadata": {},
   "source": [
    "## Структура  \n",
    "\n",
    "**Ноды:**  \n",
    "Типы Target - NonTarget  \n",
    "У каждого нода есть:\n",
    "* text_id\n",
    "* sent_id\n",
    "* word_id\n",
    "* word\n",
    "* lemma\n",
    "* pos\n",
    "* gram\n",
    "\n",
    "**Отношения между нодами:**  \n",
    "Тип отношения - dep, устанавливается с head по head_id"
   ]
  },
  {
   "cell_type": "markdown",
   "id": "bb3788a6-7077-486c-b034-b74d4788dd60",
   "metadata": {},
   "source": [
    "## Подключимся к базе и прочитаем данные"
   ]
  },
  {
   "cell_type": "code",
   "execution_count": 3,
   "id": "37cd6ac3-8b48-4718-a7b5-189ddd62a7fb",
   "metadata": {},
   "outputs": [],
   "source": [
    "from neo4j import GraphDatabase, RoutingControl\n",
    "\n",
    "URI = \"bolt://localhost:7687\"\n",
    "AUTH = # my password"
   ]
  },
  {
   "cell_type": "code",
   "execution_count": 9,
   "id": "33c27e82-411b-4d2e-9975-4e8295e121f1",
   "metadata": {},
   "outputs": [],
   "source": [
    "import pandas as pd"
   ]
  },
  {
   "cell_type": "code",
   "execution_count": 22,
   "id": "b64a4a49-674a-4938-adb4-c3d9d8d4b2e4",
   "metadata": {},
   "outputs": [],
   "source": [
    "ud = pd.read_csv('UD_full_no_punct.csv').fillna('NaN')"
   ]
  },
  {
   "cell_type": "code",
   "execution_count": 23,
   "id": "327e021d-2a0d-450b-9d3c-9cc37f39ed82",
   "metadata": {},
   "outputs": [
    {
     "data": {
      "text/html": [
       "<div>\n",
       "<style scoped>\n",
       "    .dataframe tbody tr th:only-of-type {\n",
       "        vertical-align: middle;\n",
       "    }\n",
       "\n",
       "    .dataframe tbody tr th {\n",
       "        vertical-align: top;\n",
       "    }\n",
       "\n",
       "    .dataframe thead th {\n",
       "        text-align: right;\n",
       "    }\n",
       "</style>\n",
       "<table border=\"1\" class=\"dataframe\">\n",
       "  <thead>\n",
       "    <tr style=\"text-align: right;\">\n",
       "      <th></th>\n",
       "      <th>text_id</th>\n",
       "      <th>sent_id</th>\n",
       "      <th>is_sent_start</th>\n",
       "      <th>word_id</th>\n",
       "      <th>is_target</th>\n",
       "      <th>word</th>\n",
       "      <th>lemma</th>\n",
       "      <th>pos</th>\n",
       "      <th>gram</th>\n",
       "      <th>dep</th>\n",
       "      <th>head</th>\n",
       "      <th>head_id</th>\n",
       "    </tr>\n",
       "  </thead>\n",
       "  <tbody>\n",
       "    <tr>\n",
       "      <th>0</th>\n",
       "      <td>1</td>\n",
       "      <td>1</td>\n",
       "      <td>True</td>\n",
       "      <td>1</td>\n",
       "      <td>0</td>\n",
       "      <td>Пилат</td>\n",
       "      <td>Пилата</td>\n",
       "      <td>NOUN</td>\n",
       "      <td>Animacy=Inan|Case=Nom|Gender=Masc|Number=Sing</td>\n",
       "      <td>nsubj</td>\n",
       "      <td>повернулся</td>\n",
       "      <td>2</td>\n",
       "    </tr>\n",
       "    <tr>\n",
       "      <th>1</th>\n",
       "      <td>1</td>\n",
       "      <td>1</td>\n",
       "      <td>False</td>\n",
       "      <td>2</td>\n",
       "      <td>1</td>\n",
       "      <td>повернулся</td>\n",
       "      <td>повернуться</td>\n",
       "      <td>VERB</td>\n",
       "      <td>Aspect=Perf|Gender=Masc|Mood=Ind|Number=Sing|T...</td>\n",
       "      <td>ROOT</td>\n",
       "      <td>повернулся</td>\n",
       "      <td>2</td>\n",
       "    </tr>\n",
       "    <tr>\n",
       "      <th>2</th>\n",
       "      <td>1</td>\n",
       "      <td>1</td>\n",
       "      <td>False</td>\n",
       "      <td>3</td>\n",
       "      <td>0</td>\n",
       "      <td>и</td>\n",
       "      <td>и</td>\n",
       "      <td>CCONJ</td>\n",
       "      <td>NaN</td>\n",
       "      <td>cc</td>\n",
       "      <td>пошел</td>\n",
       "      <td>4</td>\n",
       "    </tr>\n",
       "    <tr>\n",
       "      <th>3</th>\n",
       "      <td>1</td>\n",
       "      <td>1</td>\n",
       "      <td>False</td>\n",
       "      <td>4</td>\n",
       "      <td>0</td>\n",
       "      <td>пошел</td>\n",
       "      <td>пойти</td>\n",
       "      <td>VERB</td>\n",
       "      <td>Aspect=Perf|Gender=Masc|Mood=Ind|Number=Sing|T...</td>\n",
       "      <td>conj</td>\n",
       "      <td>повернулся</td>\n",
       "      <td>2</td>\n",
       "    </tr>\n",
       "    <tr>\n",
       "      <th>4</th>\n",
       "      <td>1</td>\n",
       "      <td>1</td>\n",
       "      <td>False</td>\n",
       "      <td>5</td>\n",
       "      <td>0</td>\n",
       "      <td>по</td>\n",
       "      <td>по</td>\n",
       "      <td>ADP</td>\n",
       "      <td>NaN</td>\n",
       "      <td>case</td>\n",
       "      <td>мосту</td>\n",
       "      <td>6</td>\n",
       "    </tr>\n",
       "  </tbody>\n",
       "</table>\n",
       "</div>"
      ],
      "text/plain": [
       "   text_id  sent_id  is_sent_start  word_id  is_target        word  \\\n",
       "0        1        1           True        1          0       Пилат   \n",
       "1        1        1          False        2          1  повернулся   \n",
       "2        1        1          False        3          0           и   \n",
       "3        1        1          False        4          0       пошел   \n",
       "4        1        1          False        5          0          по   \n",
       "\n",
       "         lemma    pos                                               gram  \\\n",
       "0       Пилата   NOUN      Animacy=Inan|Case=Nom|Gender=Masc|Number=Sing   \n",
       "1  повернуться   VERB  Aspect=Perf|Gender=Masc|Mood=Ind|Number=Sing|T...   \n",
       "2            и  CCONJ                                                NaN   \n",
       "3        пойти   VERB  Aspect=Perf|Gender=Masc|Mood=Ind|Number=Sing|T...   \n",
       "4           по    ADP                                                NaN   \n",
       "\n",
       "     dep        head  head_id  \n",
       "0  nsubj  повернулся        2  \n",
       "1   ROOT  повернулся        2  \n",
       "2     cc       пошел        4  \n",
       "3   conj  повернулся        2  \n",
       "4   case       мосту        6  "
      ]
     },
     "execution_count": 23,
     "metadata": {},
     "output_type": "execute_result"
    }
   ],
   "source": [
    "ud.head()"
   ]
  },
  {
   "cell_type": "markdown",
   "id": "e1c11a33-bcd9-4437-8a15-8f719aae21d8",
   "metadata": {},
   "source": [
    "## Пополнить базу"
   ]
  },
  {
   "cell_type": "code",
   "execution_count": 24,
   "id": "1d07cbc6-f617-47d5-b486-6da092f1a2c1",
   "metadata": {},
   "outputs": [],
   "source": [
    "def add_target(driver, row):\n",
    "    driver.execute_query(\n",
    "        \"MERGE (a:Target {text_id: $text_id, sent_id: $sent_id, word_id: $word_id, word: $word, lemma: $lemma, pos: $pos, gram: $gram}) \",\n",
    "        text_id = row.text_id, sent_id = row.sent_id, word_id = row.word_id,\n",
    "        word = row.word, lemma = row.lemma, pos = row.pos, gram = row.gram, database_=\"neo4j\",\n",
    "    )\n",
    "\n",
    "def add_nontarget(driver, row):\n",
    "    driver.execute_query(\n",
    "        \"MERGE (a:NonTarget {text_id: $text_id, sent_id: $sent_id, word_id: $word_id, word: $word, lemma: $lemma, pos: $pos, gram: $gram}) \",\n",
    "        text_id = row.text_id, sent_id = row.sent_id, word_id = row.word_id,\n",
    "        word = row.word, lemma = row.lemma, pos = row.pos, gram = row.gram, database_=\"neo4j\",\n",
    "    )"
   ]
  },
  {
   "cell_type": "code",
   "execution_count": 25,
   "id": "499f2d63-2b91-4007-ad6f-f459b37fbd04",
   "metadata": {},
   "outputs": [],
   "source": [
    "for index, row in ud.iterrows():\n",
    "    with GraphDatabase.driver(URI, auth=AUTH) as driver:\n",
    "        if row.is_target == 1:\n",
    "            add_target(driver, row)\n",
    "        else:\n",
    "            add_nontarget(driver, row)"
   ]
  },
  {
   "cell_type": "code",
   "execution_count": 26,
   "id": "c7badc11-d8c6-40fe-b35c-a3cb80dd9ba7",
   "metadata": {},
   "outputs": [],
   "source": [
    "def add_dependency(driver, row):\n",
    "    driver.execute_query(\n",
    "        \"MATCH (a) WHERE a.text_id = $text_id and a.word_id = $word_id \"\n",
    "        \"MATCH (b) WHERE b.text_id = $text_id and b.word_id = $head_id \"\n",
    "        \"MERGE (b)-[:DEPENDENCY {dep: $dep}]->(a)\",\n",
    "        text_id = row.text_id, word_id = row.word_id, head_id = row.head_id, \n",
    "        dep = row.dep, database_=\"neo4j\",\n",
    "    )"
   ]
  },
  {
   "cell_type": "code",
   "execution_count": 27,
   "id": "fe8ba911-fff8-4cd7-b9d2-9589e613f10f",
   "metadata": {},
   "outputs": [],
   "source": [
    "for index, row in ud.iterrows():\n",
    "    with GraphDatabase.driver(URI, auth=AUTH) as driver:\n",
    "        add_dependency(driver, row)"
   ]
  },
  {
   "cell_type": "markdown",
   "id": "69296c90-70b6-4565-99ee-1fbbe3a0bb7b",
   "metadata": {},
   "source": [
    "## Переразметка"
   ]
  },
  {
   "cell_type": "code",
   "execution_count": 32,
   "id": "0137ca0a-c61d-4234-82ea-bbb8eb76855f",
   "metadata": {},
   "outputs": [],
   "source": [
    "def update_dependency(driver, text_id, word_id, new_head, new_dep):\n",
    "    driver.execute_query(\n",
    "        \"MATCH (b)-[d]->(a) WHERE a.text_id = $text_id and a.word_id = $word_id \"\n",
    "        \"MATCH (c) WHERE c.text_id = $text_id and c.word_id = $new_head \"\n",
    "        \"DELETE d \"\n",
    "        \"MERGE (c)-[:DEPENDENCY {dep: $new_dep}]->(a)\",\n",
    "        text_id = text_id, word_id = word_id, new_head = new_head, \n",
    "        new_dep = new_dep, database_=\"neo4j\",\n",
    "    )"
   ]
  },
  {
   "cell_type": "code",
   "execution_count": null,
   "id": "9a017a59-a8ec-406e-938b-795650757d95",
   "metadata": {},
   "outputs": [],
   "source": [
    "with GraphDatabase.driver(URI, auth=AUTH) as driver:\n",
    "    update_dependency(driver, 5, 126, 125, 'jvdfvkjfdkj')"
   ]
  },
  {
   "cell_type": "code",
   "execution_count": null,
   "id": "b6c2b958-3efb-466b-ab39-deb560bb4388",
   "metadata": {},
   "outputs": [],
   "source": [
    "with GraphDatabase.driver(URI, auth=AUTH) as driver:\n",
    "    update_dependency(driver, 5, 126, 127, 'case')"
   ]
  },
  {
   "cell_type": "markdown",
   "id": "19a1999f-3fef-47e3-a6d3-54af87c4443b",
   "metadata": {},
   "source": [
    "## Удалить что-то из базы"
   ]
  },
  {
   "cell_type": "code",
   "execution_count": 7,
   "id": "f0b35426-9016-4d17-9227-c4577ed182f8",
   "metadata": {},
   "outputs": [],
   "source": [
    "def delete_node(driver, text_id, word_id):\n",
    "    driver.execute_query(\n",
    "        \"MATCH (a) WHERE a.text_id = $text_id and a.word_id = $word_id \"\n",
    "        \"DETACH DELETE (a) \",\n",
    "        text_id = text_id, word_id = word_id, database_=\"neo4j\",\n",
    "    )"
   ]
  },
  {
   "cell_type": "code",
   "execution_count": 35,
   "id": "88b54805-e70b-4920-a068-e86882388157",
   "metadata": {},
   "outputs": [],
   "source": [
    "with GraphDatabase.driver(URI, auth=AUTH) as driver:\n",
    "    delete_node(driver, 5, 131)"
   ]
  },
  {
   "cell_type": "code",
   "execution_count": 21,
   "id": "a5b4d562-37a5-4746-8435-61d5e31c41d0",
   "metadata": {},
   "outputs": [],
   "source": [
    "# снести базу целиком (dict_of_stats там ниже получается)\n",
    "\n",
    "with GraphDatabase.driver(URI, auth=AUTH) as driver:\n",
    "    for text in dict_of_stats.keys():\n",
    "        length = dict_of_stats[text]\n",
    "        for i in range(1, length + 1):\n",
    "            delete_node(driver, text, i)"
   ]
  },
  {
   "cell_type": "markdown",
   "id": "c813199a-9e6f-494b-beab-d4d41c9c4b89",
   "metadata": {},
   "source": [
    "## Всякие принты"
   ]
  },
  {
   "cell_type": "markdown",
   "id": "98ffc166-e8e8-44ce-ae45-35754eb02fe8",
   "metadata": {},
   "source": [
    "### Вершины"
   ]
  },
  {
   "cell_type": "code",
   "execution_count": 83,
   "id": "b8b8ce86-985c-4468-a901-d80baf7db62e",
   "metadata": {},
   "outputs": [],
   "source": [
    "def print_head(driver, text_id, word_id):\n",
    "    records, _, _ = driver.execute_query(\n",
    "        \"MATCH (b)-[:DEPENDENCY]->(a) WHERE a.text_id = $text_id and a.word_id = $word_id \"\n",
    "        \"RETURN b.word_id\",\n",
    "        text_id = text_id, word_id = word_id, database_=\"neo4j\", routing_=RoutingControl.READ,\n",
    "    )\n",
    "    for record in records:\n",
    "        print(record[\"b.word_id\"])"
   ]
  },
  {
   "cell_type": "code",
   "execution_count": 84,
   "id": "9ef30e93-ba1c-4696-9501-223cd4dfe99a",
   "metadata": {},
   "outputs": [
    {
     "name": "stdout",
     "output_type": "stream",
     "text": [
      "298\n"
     ]
    }
   ],
   "source": [
    "with GraphDatabase.driver(URI, auth=AUTH) as driver:\n",
    "    print_head(driver, 5, 300)"
   ]
  },
  {
   "cell_type": "code",
   "execution_count": 85,
   "id": "f9f37bc5-f6ea-4e8c-a433-76b61eebf40a",
   "metadata": {},
   "outputs": [],
   "source": [
    "def print_overhead(driver, text_id, word_id):\n",
    "    records, _, _ = driver.execute_query(\n",
    "        \"MATCH (b)-[*]->(a) WHERE a.text_id = $text_id and a.word_id = $word_id and b.word_id <> a.word_id \"\n",
    "        \"RETURN DISTINCT b.word_id ORDER BY b.word_id\",\n",
    "        text_id = text_id, word_id = word_id, database_=\"neo4j\", routing_=RoutingControl.READ,\n",
    "    )\n",
    "    for record in records:\n",
    "        print(record[\"b.word_id\"])"
   ]
  },
  {
   "cell_type": "code",
   "execution_count": 86,
   "id": "8deb170e-9827-4970-8d5c-b4e9e9d40fcb",
   "metadata": {},
   "outputs": [
    {
     "name": "stdout",
     "output_type": "stream",
     "text": [
      "298\n",
      "302\n"
     ]
    }
   ],
   "source": [
    "with GraphDatabase.driver(URI, auth=AUTH) as driver:\n",
    "    print_overhead(driver, 5, 300)"
   ]
  },
  {
   "cell_type": "markdown",
   "id": "ee762103-95ac-4ebb-82cc-d9d7dfcbdf5f",
   "metadata": {},
   "source": [
    "### Зависимые"
   ]
  },
  {
   "cell_type": "code",
   "execution_count": 28,
   "id": "c593a6e9-1138-4c84-8a0f-f1dc3c7350e0",
   "metadata": {},
   "outputs": [],
   "source": [
    "def print_dependents(driver, text_id, word_id):\n",
    "    records, _, _ = driver.execute_query(\n",
    "        \"MATCH (b)-[:DEPENDENCY]->(a) WHERE b.text_id = $text_id and b.word_id = $word_id \"\n",
    "        \"RETURN a.word_id ORDER BY a.word_id\",\n",
    "        text_id = text_id, word_id = word_id, database_=\"neo4j\", routing_=RoutingControl.READ,\n",
    "    )\n",
    "    dependents = []\n",
    "    for record in records:\n",
    "        dependents.append(record[\"a.word_id\"])\n",
    "    if len(dependents) > 0:\n",
    "        return str(dependents)\n",
    "    else:\n",
    "        return 'NaN'"
   ]
  },
  {
   "cell_type": "code",
   "execution_count": 29,
   "id": "c93b823b-205d-469a-876c-3b03d86f8cd4",
   "metadata": {},
   "outputs": [
    {
     "name": "stdout",
     "output_type": "stream",
     "text": [
      "[295, 296, 297, 300]\n"
     ]
    }
   ],
   "source": [
    "with GraphDatabase.driver(URI, auth=AUTH) as driver:\n",
    "    print(print_dependents(driver, 5, 298))"
   ]
  },
  {
   "cell_type": "code",
   "execution_count": 30,
   "id": "ba808e54-7451-4c05-8c84-e7d052182be0",
   "metadata": {},
   "outputs": [],
   "source": [
    "def add_column_with_dependents(row):\n",
    "    with GraphDatabase.driver(URI, auth=AUTH) as driver:\n",
    "        deps = print_dependents(driver, row.text_id, row.word_id)\n",
    "        row['dependents'] = deps\n",
    "    return row"
   ]
  },
  {
   "cell_type": "code",
   "execution_count": 31,
   "id": "cea39d92-d2b0-4ea1-97b1-3d123fa1621c",
   "metadata": {},
   "outputs": [],
   "source": [
    "ud = ud.apply(add_column_with_dependents, axis=1)"
   ]
  },
  {
   "cell_type": "code",
   "execution_count": 32,
   "id": "01be6a49-7b98-4482-b6f5-f24c736d4e7e",
   "metadata": {},
   "outputs": [
    {
     "data": {
      "text/html": [
       "<div>\n",
       "<style scoped>\n",
       "    .dataframe tbody tr th:only-of-type {\n",
       "        vertical-align: middle;\n",
       "    }\n",
       "\n",
       "    .dataframe tbody tr th {\n",
       "        vertical-align: top;\n",
       "    }\n",
       "\n",
       "    .dataframe thead th {\n",
       "        text-align: right;\n",
       "    }\n",
       "</style>\n",
       "<table border=\"1\" class=\"dataframe\">\n",
       "  <thead>\n",
       "    <tr style=\"text-align: right;\">\n",
       "      <th></th>\n",
       "      <th>text_id</th>\n",
       "      <th>sent_id</th>\n",
       "      <th>is_sent_start</th>\n",
       "      <th>word_id</th>\n",
       "      <th>is_target</th>\n",
       "      <th>word</th>\n",
       "      <th>lemma</th>\n",
       "      <th>pos</th>\n",
       "      <th>gram</th>\n",
       "      <th>dep</th>\n",
       "      <th>head</th>\n",
       "      <th>head_id</th>\n",
       "      <th>dependents</th>\n",
       "    </tr>\n",
       "  </thead>\n",
       "  <tbody>\n",
       "    <tr>\n",
       "      <th>0</th>\n",
       "      <td>1</td>\n",
       "      <td>1</td>\n",
       "      <td>True</td>\n",
       "      <td>1</td>\n",
       "      <td>0</td>\n",
       "      <td>Пилат</td>\n",
       "      <td>Пилата</td>\n",
       "      <td>NOUN</td>\n",
       "      <td>Animacy=Inan|Case=Nom|Gender=Masc|Number=Sing</td>\n",
       "      <td>nsubj</td>\n",
       "      <td>повернулся</td>\n",
       "      <td>2</td>\n",
       "      <td>NaN</td>\n",
       "    </tr>\n",
       "    <tr>\n",
       "      <th>1</th>\n",
       "      <td>1</td>\n",
       "      <td>1</td>\n",
       "      <td>False</td>\n",
       "      <td>2</td>\n",
       "      <td>1</td>\n",
       "      <td>повернулся</td>\n",
       "      <td>повернуться</td>\n",
       "      <td>VERB</td>\n",
       "      <td>Aspect=Perf|Gender=Masc|Mood=Ind|Number=Sing|T...</td>\n",
       "      <td>ROOT</td>\n",
       "      <td>повернулся</td>\n",
       "      <td>2</td>\n",
       "      <td>[1, 2, 4]</td>\n",
       "    </tr>\n",
       "    <tr>\n",
       "      <th>2</th>\n",
       "      <td>1</td>\n",
       "      <td>1</td>\n",
       "      <td>False</td>\n",
       "      <td>3</td>\n",
       "      <td>0</td>\n",
       "      <td>и</td>\n",
       "      <td>и</td>\n",
       "      <td>CCONJ</td>\n",
       "      <td>NaN</td>\n",
       "      <td>cc</td>\n",
       "      <td>пошел</td>\n",
       "      <td>4</td>\n",
       "      <td>NaN</td>\n",
       "    </tr>\n",
       "    <tr>\n",
       "      <th>3</th>\n",
       "      <td>1</td>\n",
       "      <td>1</td>\n",
       "      <td>False</td>\n",
       "      <td>4</td>\n",
       "      <td>0</td>\n",
       "      <td>пошел</td>\n",
       "      <td>пойти</td>\n",
       "      <td>VERB</td>\n",
       "      <td>Aspect=Perf|Gender=Masc|Mood=Ind|Number=Sing|T...</td>\n",
       "      <td>conj</td>\n",
       "      <td>повернулся</td>\n",
       "      <td>2</td>\n",
       "      <td>[3, 6, 7, 9, 12]</td>\n",
       "    </tr>\n",
       "    <tr>\n",
       "      <th>4</th>\n",
       "      <td>1</td>\n",
       "      <td>1</td>\n",
       "      <td>False</td>\n",
       "      <td>5</td>\n",
       "      <td>0</td>\n",
       "      <td>по</td>\n",
       "      <td>по</td>\n",
       "      <td>ADP</td>\n",
       "      <td>NaN</td>\n",
       "      <td>case</td>\n",
       "      <td>мосту</td>\n",
       "      <td>6</td>\n",
       "      <td>NaN</td>\n",
       "    </tr>\n",
       "  </tbody>\n",
       "</table>\n",
       "</div>"
      ],
      "text/plain": [
       "   text_id  sent_id  is_sent_start  word_id  is_target        word  \\\n",
       "0        1        1           True        1          0       Пилат   \n",
       "1        1        1          False        2          1  повернулся   \n",
       "2        1        1          False        3          0           и   \n",
       "3        1        1          False        4          0       пошел   \n",
       "4        1        1          False        5          0          по   \n",
       "\n",
       "         lemma    pos                                               gram  \\\n",
       "0       Пилата   NOUN      Animacy=Inan|Case=Nom|Gender=Masc|Number=Sing   \n",
       "1  повернуться   VERB  Aspect=Perf|Gender=Masc|Mood=Ind|Number=Sing|T...   \n",
       "2            и  CCONJ                                                NaN   \n",
       "3        пойти   VERB  Aspect=Perf|Gender=Masc|Mood=Ind|Number=Sing|T...   \n",
       "4           по    ADP                                                NaN   \n",
       "\n",
       "     dep        head  head_id        dependents  \n",
       "0  nsubj  повернулся        2               NaN  \n",
       "1   ROOT  повернулся        2         [1, 2, 4]  \n",
       "2     cc       пошел        4               NaN  \n",
       "3   conj  повернулся        2  [3, 6, 7, 9, 12]  \n",
       "4   case       мосту        6               NaN  "
      ]
     },
     "execution_count": 32,
     "metadata": {},
     "output_type": "execute_result"
    }
   ],
   "source": [
    "ud.head()"
   ]
  },
  {
   "cell_type": "markdown",
   "id": "c628fe38-19a2-4433-82f0-c65017888b1b",
   "metadata": {},
   "source": [
    "### Количество зависимых"
   ]
  },
  {
   "cell_type": "markdown",
   "id": "3e8bc484-3df5-41a6-ac0f-6131b1a5b3bb",
   "metadata": {},
   "source": [
    "Можно было просто модифицировать предыдущую функцию, чтобы она возвращала не сам список, а его длины. Но сделаем это функцией count внутри neo4j."
   ]
  },
  {
   "cell_type": "code",
   "execution_count": 33,
   "id": "0e6483c6-6e1c-4f3e-a97f-c2f60da92758",
   "metadata": {},
   "outputs": [],
   "source": [
    "def print_count_dependents(driver, text_id, word_id):\n",
    "    records, _, _ = driver.execute_query(\n",
    "        \"MATCH (b)-[:DEPENDENCY]->(a) WHERE b.text_id = $text_id and b.word_id = $word_id \"\n",
    "        \"RETURN COUNT(a) \",\n",
    "        text_id = text_id, word_id = word_id, database_=\"neo4j\", routing_=RoutingControl.READ,\n",
    "    )\n",
    "    for record in records:\n",
    "        return record[\"COUNT(a)\"]"
   ]
  },
  {
   "cell_type": "code",
   "execution_count": 34,
   "id": "6b74673c-46fe-432d-9f9c-b7fae11c3839",
   "metadata": {},
   "outputs": [
    {
     "name": "stdout",
     "output_type": "stream",
     "text": [
      "4\n"
     ]
    }
   ],
   "source": [
    "with GraphDatabase.driver(URI, auth=AUTH) as driver:\n",
    "    print(print_count_dependents(driver, 5, 298))"
   ]
  },
  {
   "cell_type": "code",
   "execution_count": 35,
   "id": "eca5b624-6180-4624-a441-b57743846075",
   "metadata": {},
   "outputs": [],
   "source": [
    "def add_column_with_count_dependents(row):\n",
    "    with GraphDatabase.driver(URI, auth=AUTH) as driver:\n",
    "        deps = print_count_dependents(driver, row.text_id, row.word_id)\n",
    "        row['count_dependents'] = deps\n",
    "    return row"
   ]
  },
  {
   "cell_type": "code",
   "execution_count": 36,
   "id": "6fd70813-f7f6-43da-af09-029b838b1574",
   "metadata": {},
   "outputs": [],
   "source": [
    "ud = ud.apply(add_column_with_count_dependents, axis=1)"
   ]
  },
  {
   "cell_type": "code",
   "execution_count": 37,
   "id": "803961b1-8b74-49fc-ac6d-0600a63074b1",
   "metadata": {},
   "outputs": [
    {
     "data": {
      "text/html": [
       "<div>\n",
       "<style scoped>\n",
       "    .dataframe tbody tr th:only-of-type {\n",
       "        vertical-align: middle;\n",
       "    }\n",
       "\n",
       "    .dataframe tbody tr th {\n",
       "        vertical-align: top;\n",
       "    }\n",
       "\n",
       "    .dataframe thead th {\n",
       "        text-align: right;\n",
       "    }\n",
       "</style>\n",
       "<table border=\"1\" class=\"dataframe\">\n",
       "  <thead>\n",
       "    <tr style=\"text-align: right;\">\n",
       "      <th></th>\n",
       "      <th>text_id</th>\n",
       "      <th>sent_id</th>\n",
       "      <th>is_sent_start</th>\n",
       "      <th>word_id</th>\n",
       "      <th>is_target</th>\n",
       "      <th>word</th>\n",
       "      <th>lemma</th>\n",
       "      <th>pos</th>\n",
       "      <th>gram</th>\n",
       "      <th>dep</th>\n",
       "      <th>head</th>\n",
       "      <th>head_id</th>\n",
       "      <th>dependents</th>\n",
       "      <th>count_dependents</th>\n",
       "    </tr>\n",
       "  </thead>\n",
       "  <tbody>\n",
       "    <tr>\n",
       "      <th>0</th>\n",
       "      <td>1</td>\n",
       "      <td>1</td>\n",
       "      <td>True</td>\n",
       "      <td>1</td>\n",
       "      <td>0</td>\n",
       "      <td>Пилат</td>\n",
       "      <td>Пилата</td>\n",
       "      <td>NOUN</td>\n",
       "      <td>Animacy=Inan|Case=Nom|Gender=Masc|Number=Sing</td>\n",
       "      <td>nsubj</td>\n",
       "      <td>повернулся</td>\n",
       "      <td>2</td>\n",
       "      <td>NaN</td>\n",
       "      <td>0</td>\n",
       "    </tr>\n",
       "    <tr>\n",
       "      <th>1</th>\n",
       "      <td>1</td>\n",
       "      <td>1</td>\n",
       "      <td>False</td>\n",
       "      <td>2</td>\n",
       "      <td>1</td>\n",
       "      <td>повернулся</td>\n",
       "      <td>повернуться</td>\n",
       "      <td>VERB</td>\n",
       "      <td>Aspect=Perf|Gender=Masc|Mood=Ind|Number=Sing|T...</td>\n",
       "      <td>ROOT</td>\n",
       "      <td>повернулся</td>\n",
       "      <td>2</td>\n",
       "      <td>[1, 2, 4]</td>\n",
       "      <td>3</td>\n",
       "    </tr>\n",
       "    <tr>\n",
       "      <th>2</th>\n",
       "      <td>1</td>\n",
       "      <td>1</td>\n",
       "      <td>False</td>\n",
       "      <td>3</td>\n",
       "      <td>0</td>\n",
       "      <td>и</td>\n",
       "      <td>и</td>\n",
       "      <td>CCONJ</td>\n",
       "      <td>NaN</td>\n",
       "      <td>cc</td>\n",
       "      <td>пошел</td>\n",
       "      <td>4</td>\n",
       "      <td>NaN</td>\n",
       "      <td>0</td>\n",
       "    </tr>\n",
       "    <tr>\n",
       "      <th>3</th>\n",
       "      <td>1</td>\n",
       "      <td>1</td>\n",
       "      <td>False</td>\n",
       "      <td>4</td>\n",
       "      <td>0</td>\n",
       "      <td>пошел</td>\n",
       "      <td>пойти</td>\n",
       "      <td>VERB</td>\n",
       "      <td>Aspect=Perf|Gender=Masc|Mood=Ind|Number=Sing|T...</td>\n",
       "      <td>conj</td>\n",
       "      <td>повернулся</td>\n",
       "      <td>2</td>\n",
       "      <td>[3, 6, 7, 9, 12]</td>\n",
       "      <td>5</td>\n",
       "    </tr>\n",
       "    <tr>\n",
       "      <th>4</th>\n",
       "      <td>1</td>\n",
       "      <td>1</td>\n",
       "      <td>False</td>\n",
       "      <td>5</td>\n",
       "      <td>0</td>\n",
       "      <td>по</td>\n",
       "      <td>по</td>\n",
       "      <td>ADP</td>\n",
       "      <td>NaN</td>\n",
       "      <td>case</td>\n",
       "      <td>мосту</td>\n",
       "      <td>6</td>\n",
       "      <td>NaN</td>\n",
       "      <td>0</td>\n",
       "    </tr>\n",
       "  </tbody>\n",
       "</table>\n",
       "</div>"
      ],
      "text/plain": [
       "   text_id  sent_id  is_sent_start  word_id  is_target        word  \\\n",
       "0        1        1           True        1          0       Пилат   \n",
       "1        1        1          False        2          1  повернулся   \n",
       "2        1        1          False        3          0           и   \n",
       "3        1        1          False        4          0       пошел   \n",
       "4        1        1          False        5          0          по   \n",
       "\n",
       "         lemma    pos                                               gram  \\\n",
       "0       Пилата   NOUN      Animacy=Inan|Case=Nom|Gender=Masc|Number=Sing   \n",
       "1  повернуться   VERB  Aspect=Perf|Gender=Masc|Mood=Ind|Number=Sing|T...   \n",
       "2            и  CCONJ                                                NaN   \n",
       "3        пойти   VERB  Aspect=Perf|Gender=Masc|Mood=Ind|Number=Sing|T...   \n",
       "4           по    ADP                                                NaN   \n",
       "\n",
       "     dep        head  head_id        dependents  count_dependents  \n",
       "0  nsubj  повернулся        2               NaN                 0  \n",
       "1   ROOT  повернулся        2         [1, 2, 4]                 3  \n",
       "2     cc       пошел        4               NaN                 0  \n",
       "3   conj  повернулся        2  [3, 6, 7, 9, 12]                 5  \n",
       "4   case       мосту        6               NaN                 0  "
      ]
     },
     "execution_count": 37,
     "metadata": {},
     "output_type": "execute_result"
    }
   ],
   "source": [
    "ud.head()"
   ]
  },
  {
   "cell_type": "markdown",
   "id": "3cc05b14-a028-48e0-bfac-7de3a58b24c2",
   "metadata": {},
   "source": [
    "### Найти таргетные слова, у которых есть и вершина (отличная от них самих), и зависимое"
   ]
  },
  {
   "cell_type": "code",
   "execution_count": 38,
   "id": "f809adbe-9ead-45eb-a356-d74b864f1dd2",
   "metadata": {},
   "outputs": [],
   "source": [
    "def print_middle_targets(driver):\n",
    "    records, _, _ = driver.execute_query(\n",
    "        \"MATCH (c)-[:DEPENDENCY]->(b:Target)-[:DEPENDENCY]->(a) \"\n",
    "        \"WHERE c.word_id <> b.word_id \"\n",
    "        \"RETURN DISTINCT b.text_id, b.word_id \",\n",
    "        database_=\"neo4j\", routing_=RoutingControl.READ,\n",
    "    )\n",
    "    list_of_middles = []\n",
    "    for record in records:\n",
    "        list_of_middles.append((record[\"b.text_id\"], record[\"b.word_id\"]))\n",
    "    return list_of_middles"
   ]
  },
  {
   "cell_type": "code",
   "execution_count": 39,
   "id": "a1e96ef4-912e-4902-a758-250cb80c56f2",
   "metadata": {},
   "outputs": [],
   "source": [
    "with GraphDatabase.driver(URI, auth=AUTH) as driver:\n",
    "    list_of_middles = print_middle_targets(driver)"
   ]
  },
  {
   "cell_type": "code",
   "execution_count": 40,
   "id": "f03c41a3-3fe7-472c-941f-181865dd2d1d",
   "metadata": {},
   "outputs": [
    {
     "data": {
      "text/plain": [
       "[(1, 9), (1, 19), (1, 36), (1, 44), (1, 64)]"
      ]
     },
     "execution_count": 40,
     "metadata": {},
     "output_type": "execute_result"
    }
   ],
   "source": [
    "list_of_middles[:5]"
   ]
  },
  {
   "cell_type": "code",
   "execution_count": 43,
   "id": "cc854915-9ac0-4f6b-a8f4-f969031fa4da",
   "metadata": {},
   "outputs": [],
   "source": [
    "def add_column_with_middle_targets(row):\n",
    "    if row.is_target == 0:\n",
    "        middle = 0\n",
    "    else:\n",
    "        m = (row.text_id, row.word_id)\n",
    "        if m in list_of_middles:\n",
    "            middle = 1\n",
    "        else:\n",
    "            middle = 0\n",
    "    row['is_middle'] = middle\n",
    "    return row"
   ]
  },
  {
   "cell_type": "code",
   "execution_count": 44,
   "id": "c8979699-146a-4bd1-b59a-92e661fd75e7",
   "metadata": {},
   "outputs": [],
   "source": [
    "ud = ud.apply(add_column_with_middle_targets, axis=1)"
   ]
  },
  {
   "cell_type": "code",
   "execution_count": 45,
   "id": "a9ddd541-9a0a-4d9d-9b30-43a2f60a8636",
   "metadata": {},
   "outputs": [
    {
     "data": {
      "text/html": [
       "<div>\n",
       "<style scoped>\n",
       "    .dataframe tbody tr th:only-of-type {\n",
       "        vertical-align: middle;\n",
       "    }\n",
       "\n",
       "    .dataframe tbody tr th {\n",
       "        vertical-align: top;\n",
       "    }\n",
       "\n",
       "    .dataframe thead th {\n",
       "        text-align: right;\n",
       "    }\n",
       "</style>\n",
       "<table border=\"1\" class=\"dataframe\">\n",
       "  <thead>\n",
       "    <tr style=\"text-align: right;\">\n",
       "      <th></th>\n",
       "      <th>text_id</th>\n",
       "      <th>sent_id</th>\n",
       "      <th>is_sent_start</th>\n",
       "      <th>word_id</th>\n",
       "      <th>is_target</th>\n",
       "      <th>word</th>\n",
       "      <th>lemma</th>\n",
       "      <th>pos</th>\n",
       "      <th>gram</th>\n",
       "      <th>dep</th>\n",
       "      <th>head</th>\n",
       "      <th>head_id</th>\n",
       "      <th>dependents</th>\n",
       "      <th>count_dependents</th>\n",
       "      <th>is_middle</th>\n",
       "    </tr>\n",
       "  </thead>\n",
       "  <tbody>\n",
       "    <tr>\n",
       "      <th>0</th>\n",
       "      <td>1</td>\n",
       "      <td>1</td>\n",
       "      <td>True</td>\n",
       "      <td>1</td>\n",
       "      <td>0</td>\n",
       "      <td>Пилат</td>\n",
       "      <td>Пилата</td>\n",
       "      <td>NOUN</td>\n",
       "      <td>Animacy=Inan|Case=Nom|Gender=Masc|Number=Sing</td>\n",
       "      <td>nsubj</td>\n",
       "      <td>повернулся</td>\n",
       "      <td>2</td>\n",
       "      <td>NaN</td>\n",
       "      <td>0</td>\n",
       "      <td>0</td>\n",
       "    </tr>\n",
       "    <tr>\n",
       "      <th>1</th>\n",
       "      <td>1</td>\n",
       "      <td>1</td>\n",
       "      <td>False</td>\n",
       "      <td>2</td>\n",
       "      <td>1</td>\n",
       "      <td>повернулся</td>\n",
       "      <td>повернуться</td>\n",
       "      <td>VERB</td>\n",
       "      <td>Aspect=Perf|Gender=Masc|Mood=Ind|Number=Sing|T...</td>\n",
       "      <td>ROOT</td>\n",
       "      <td>повернулся</td>\n",
       "      <td>2</td>\n",
       "      <td>[1, 2, 4]</td>\n",
       "      <td>3</td>\n",
       "      <td>0</td>\n",
       "    </tr>\n",
       "    <tr>\n",
       "      <th>2</th>\n",
       "      <td>1</td>\n",
       "      <td>1</td>\n",
       "      <td>False</td>\n",
       "      <td>3</td>\n",
       "      <td>0</td>\n",
       "      <td>и</td>\n",
       "      <td>и</td>\n",
       "      <td>CCONJ</td>\n",
       "      <td>NaN</td>\n",
       "      <td>cc</td>\n",
       "      <td>пошел</td>\n",
       "      <td>4</td>\n",
       "      <td>NaN</td>\n",
       "      <td>0</td>\n",
       "      <td>0</td>\n",
       "    </tr>\n",
       "    <tr>\n",
       "      <th>3</th>\n",
       "      <td>1</td>\n",
       "      <td>1</td>\n",
       "      <td>False</td>\n",
       "      <td>4</td>\n",
       "      <td>0</td>\n",
       "      <td>пошел</td>\n",
       "      <td>пойти</td>\n",
       "      <td>VERB</td>\n",
       "      <td>Aspect=Perf|Gender=Masc|Mood=Ind|Number=Sing|T...</td>\n",
       "      <td>conj</td>\n",
       "      <td>повернулся</td>\n",
       "      <td>2</td>\n",
       "      <td>[3, 6, 7, 9, 12]</td>\n",
       "      <td>5</td>\n",
       "      <td>0</td>\n",
       "    </tr>\n",
       "    <tr>\n",
       "      <th>4</th>\n",
       "      <td>1</td>\n",
       "      <td>1</td>\n",
       "      <td>False</td>\n",
       "      <td>5</td>\n",
       "      <td>0</td>\n",
       "      <td>по</td>\n",
       "      <td>по</td>\n",
       "      <td>ADP</td>\n",
       "      <td>NaN</td>\n",
       "      <td>case</td>\n",
       "      <td>мосту</td>\n",
       "      <td>6</td>\n",
       "      <td>NaN</td>\n",
       "      <td>0</td>\n",
       "      <td>0</td>\n",
       "    </tr>\n",
       "    <tr>\n",
       "      <th>5</th>\n",
       "      <td>1</td>\n",
       "      <td>1</td>\n",
       "      <td>False</td>\n",
       "      <td>6</td>\n",
       "      <td>0</td>\n",
       "      <td>мосту</td>\n",
       "      <td>мост</td>\n",
       "      <td>NOUN</td>\n",
       "      <td>Animacy=Inan|Case=Dat|Gender=Masc|Number=Sing</td>\n",
       "      <td>obl</td>\n",
       "      <td>пошел</td>\n",
       "      <td>4</td>\n",
       "      <td>[5]</td>\n",
       "      <td>1</td>\n",
       "      <td>0</td>\n",
       "    </tr>\n",
       "    <tr>\n",
       "      <th>6</th>\n",
       "      <td>1</td>\n",
       "      <td>1</td>\n",
       "      <td>False</td>\n",
       "      <td>7</td>\n",
       "      <td>0</td>\n",
       "      <td>назад</td>\n",
       "      <td>назад</td>\n",
       "      <td>ADV</td>\n",
       "      <td>Degree=Pos</td>\n",
       "      <td>advmod</td>\n",
       "      <td>пошел</td>\n",
       "      <td>4</td>\n",
       "      <td>NaN</td>\n",
       "      <td>0</td>\n",
       "      <td>0</td>\n",
       "    </tr>\n",
       "    <tr>\n",
       "      <th>7</th>\n",
       "      <td>1</td>\n",
       "      <td>1</td>\n",
       "      <td>False</td>\n",
       "      <td>8</td>\n",
       "      <td>0</td>\n",
       "      <td>к</td>\n",
       "      <td>к</td>\n",
       "      <td>ADP</td>\n",
       "      <td>NaN</td>\n",
       "      <td>case</td>\n",
       "      <td>ступеням</td>\n",
       "      <td>9</td>\n",
       "      <td>NaN</td>\n",
       "      <td>0</td>\n",
       "      <td>0</td>\n",
       "    </tr>\n",
       "    <tr>\n",
       "      <th>8</th>\n",
       "      <td>1</td>\n",
       "      <td>1</td>\n",
       "      <td>False</td>\n",
       "      <td>9</td>\n",
       "      <td>1</td>\n",
       "      <td>ступеням</td>\n",
       "      <td>ступень</td>\n",
       "      <td>NOUN</td>\n",
       "      <td>Animacy=Inan|Case=Dat|Gender=Fem|Number=Plur</td>\n",
       "      <td>obl</td>\n",
       "      <td>пошел</td>\n",
       "      <td>4</td>\n",
       "      <td>[8]</td>\n",
       "      <td>1</td>\n",
       "      <td>1</td>\n",
       "    </tr>\n",
       "    <tr>\n",
       "      <th>9</th>\n",
       "      <td>1</td>\n",
       "      <td>1</td>\n",
       "      <td>False</td>\n",
       "      <td>11</td>\n",
       "      <td>0</td>\n",
       "      <td>не</td>\n",
       "      <td>не</td>\n",
       "      <td>PART</td>\n",
       "      <td>NaN</td>\n",
       "      <td>advmod</td>\n",
       "      <td>глядя</td>\n",
       "      <td>12</td>\n",
       "      <td>NaN</td>\n",
       "      <td>0</td>\n",
       "      <td>0</td>\n",
       "    </tr>\n",
       "  </tbody>\n",
       "</table>\n",
       "</div>"
      ],
      "text/plain": [
       "   text_id  sent_id  is_sent_start  word_id  is_target        word  \\\n",
       "0        1        1           True        1          0       Пилат   \n",
       "1        1        1          False        2          1  повернулся   \n",
       "2        1        1          False        3          0           и   \n",
       "3        1        1          False        4          0       пошел   \n",
       "4        1        1          False        5          0          по   \n",
       "5        1        1          False        6          0       мосту   \n",
       "6        1        1          False        7          0       назад   \n",
       "7        1        1          False        8          0           к   \n",
       "8        1        1          False        9          1    ступеням   \n",
       "9        1        1          False       11          0          не   \n",
       "\n",
       "         lemma    pos                                               gram  \\\n",
       "0       Пилата   NOUN      Animacy=Inan|Case=Nom|Gender=Masc|Number=Sing   \n",
       "1  повернуться   VERB  Aspect=Perf|Gender=Masc|Mood=Ind|Number=Sing|T...   \n",
       "2            и  CCONJ                                                NaN   \n",
       "3        пойти   VERB  Aspect=Perf|Gender=Masc|Mood=Ind|Number=Sing|T...   \n",
       "4           по    ADP                                                NaN   \n",
       "5         мост   NOUN      Animacy=Inan|Case=Dat|Gender=Masc|Number=Sing   \n",
       "6        назад    ADV                                         Degree=Pos   \n",
       "7            к    ADP                                                NaN   \n",
       "8      ступень   NOUN       Animacy=Inan|Case=Dat|Gender=Fem|Number=Plur   \n",
       "9           не   PART                                                NaN   \n",
       "\n",
       "      dep        head  head_id        dependents  count_dependents  is_middle  \n",
       "0   nsubj  повернулся        2               NaN                 0          0  \n",
       "1    ROOT  повернулся        2         [1, 2, 4]                 3          0  \n",
       "2      cc       пошел        4               NaN                 0          0  \n",
       "3    conj  повернулся        2  [3, 6, 7, 9, 12]                 5          0  \n",
       "4    case       мосту        6               NaN                 0          0  \n",
       "5     obl       пошел        4               [5]                 1          0  \n",
       "6  advmod       пошел        4               NaN                 0          0  \n",
       "7    case    ступеням        9               NaN                 0          0  \n",
       "8     obl       пошел        4               [8]                 1          1  \n",
       "9  advmod       глядя       12               NaN                 0          0  "
      ]
     },
     "execution_count": 45,
     "metadata": {},
     "output_type": "execute_result"
    }
   ],
   "source": [
    "ud.head(10)"
   ]
  },
  {
   "cell_type": "code",
   "execution_count": 46,
   "id": "fa9db90a-f35b-4047-95e7-720ef8f96d81",
   "metadata": {},
   "outputs": [],
   "source": [
    "ud.to_csv('UD_full_extended.csv', index=False)"
   ]
  },
  {
   "cell_type": "markdown",
   "id": "0c232768-be65-4339-9424-7898e71568c1",
   "metadata": {},
   "source": [
    "**Интересный итог:** Слова, у которых есть и вершина, отличная от них самих, и зависимое (хотя бы одно), предсказываются лучше, чем слова, у которых чего-то из этого нет (p-value = 0.05691 по t-тесту)."
   ]
  },
  {
   "attachments": {
    "b36644d0-24d4-4193-9e27-cc965871c9d9.png": {
     "image/png": "[encoded data removed]"
    }
   },
   "cell_type": "markdown",
   "id": "fdbc7b8d-d3c5-4282-bcf6-9f2f866462c5",
   "metadata": {},
   "source": [
    "![image.png](attachment:b36644d0-24d4-4193-9e27-cc965871c9d9.png)"
   ]
  },
  {
   "cell_type": "markdown",
   "id": "61234078-e628-4c6c-94a6-9d37d6becb33",
   "metadata": {},
   "source": [
    "### Статистика по частям речи"
   ]
  },
  {
   "cell_type": "code",
   "execution_count": 89,
   "id": "aa38266d-09b4-4ab4-a2a4-31f184db3e14",
   "metadata": {},
   "outputs": [],
   "source": [
    "def print_most_common_heads(driver, pos):\n",
    "    records, _, _ = driver.execute_query(\n",
    "        \"MATCH (b)-[:DEPENDENCY]->(a) WHERE a.pos = $pos \"\n",
    "        \"RETURN b.pos, COUNT(*)\",\n",
    "        pos = pos, database_=\"neo4j\", routing_=RoutingControl.READ,\n",
    "    )\n",
    "    for record in records:\n",
    "        print(record[\"b.pos\"], record[\"COUNT(*)\"])"
   ]
  },
  {
   "cell_type": "code",
   "execution_count": 90,
   "id": "66a94f64-8c68-4cc5-b509-bbaf52234503",
   "metadata": {},
   "outputs": [
    {
     "name": "stdout",
     "output_type": "stream",
     "text": [
      "VERB 312\n",
      "PRON 10\n",
      "NOUN 124\n",
      "NUM 1\n",
      "ADJ 20\n",
      "PROPN 8\n",
      "ADP 2\n",
      "ADV 4\n",
      "DET 1\n",
      "PART 1\n"
     ]
    }
   ],
   "source": [
    "with GraphDatabase.driver(URI, auth=AUTH) as driver:\n",
    "    print_most_common_heads(driver, 'NOUN')"
   ]
  },
  {
   "cell_type": "code",
   "execution_count": 126,
   "id": "29c3428a-90c5-439f-8763-1c6ae7e370b6",
   "metadata": {},
   "outputs": [],
   "source": [
    "def print_average_dependents(driver, pos):\n",
    "    records, _, _ = driver.execute_query(\n",
    "        \"MATCH (a) WHERE a.pos = $pos \"\n",
    "        \"MATCH (c)-[:DEPENDENCY]->(b) WHERE c.pos = $pos \"\n",
    "        \"RETURN COUNT(DISTINCT b), COUNT(DISTINCT a)\",\n",
    "        pos = pos, database_=\"neo4j\", routing_=RoutingControl.READ,\n",
    "    )\n",
    "    for record in records:\n",
    "        print(record[\"COUNT(DISTINCT b)\"] / record[\"COUNT(DISTINCT a)\"])"
   ]
  },
  {
   "cell_type": "code",
   "execution_count": 127,
   "id": "a0cf8ddf-ea58-4044-9e14-721909f18d21",
   "metadata": {},
   "outputs": [
    {
     "name": "stdout",
     "output_type": "stream",
     "text": [
      "1.546583850931677\n"
     ]
    }
   ],
   "source": [
    "with GraphDatabase.driver(URI, auth=AUTH) as driver:\n",
    "    print_average_dependents(driver, 'NOUN')"
   ]
  },
  {
   "cell_type": "code",
   "execution_count": 128,
   "id": "ff20f20f-578d-4a7f-a2d2-5e0d51fa4864",
   "metadata": {},
   "outputs": [
    {
     "name": "stdout",
     "output_type": "stream",
     "text": [
      "3.7103960396039604\n"
     ]
    }
   ],
   "source": [
    "with GraphDatabase.driver(URI, auth=AUTH) as driver:\n",
    "    print_average_dependents(driver, 'VERB')"
   ]
  },
  {
   "cell_type": "markdown",
   "id": "4ed8a95f-1e95-48e8-9e8d-f02ec19548b9",
   "metadata": {},
   "source": [
    "Если исключить все зависимости \"в себя\" (которые есть у ROOT-ов):"
   ]
  },
  {
   "cell_type": "code",
   "execution_count": 129,
   "id": "a2f3c0fa-6201-41b1-8a78-916e00fb19d2",
   "metadata": {},
   "outputs": [],
   "source": [
    "def print_average_dependents_2(driver, pos):\n",
    "    records, _, _ = driver.execute_query(\n",
    "        \"MATCH (a) WHERE a.pos = $pos \"\n",
    "        \"MATCH (c)-[:DEPENDENCY]->(b) WHERE c.pos = $pos and c.word_id <> b.word_id \"\n",
    "        \"RETURN COUNT(DISTINCT b), COUNT(DISTINCT a)\",\n",
    "        pos = pos, database_=\"neo4j\", routing_=RoutingControl.READ,\n",
    "    )\n",
    "    for record in records:\n",
    "        print(record[\"COUNT(DISTINCT b)\"] / record[\"COUNT(DISTINCT a)\"])"
   ]
  },
  {
   "cell_type": "code",
   "execution_count": 130,
   "id": "7c51d3de-d299-41ab-8620-4b7e5fe89bcb",
   "metadata": {},
   "outputs": [
    {
     "name": "stdout",
     "output_type": "stream",
     "text": [
      "3.4603960396039604\n"
     ]
    }
   ],
   "source": [
    "with GraphDatabase.driver(URI, auth=AUTH) as driver:\n",
    "    print_average_dependents_2(driver, 'VERB')"
   ]
  },
  {
   "cell_type": "markdown",
   "id": "7e8577d7-7dc6-48d7-ae9c-6138f4a737c3",
   "metadata": {},
   "source": [
    "## Алгосы"
   ]
  },
  {
   "cell_type": "markdown",
   "id": "6dac188d-b4bb-4638-b0ef-8b29b4412f2a",
   "metadata": {},
   "source": [
    "https://data-xtractor.com/blog/graphs/neo4j-graph-algorithms-community-detection/"
   ]
  },
  {
   "attachments": {
    "10f194fc-045f-4f3a-be85-3bf20aff6e43.png": {
     "image/png": "[encoded data removed]"
    },
    "627936e7-a424-4584-8651-66fb12452ec0.png": {
     "image/png": "[encoded data removed]"
    }
   },
   "cell_type": "markdown",
   "id": "bed63475-8e1b-4a20-839c-07e8d3ff9d49",
   "metadata": {},
   "source": [
    "![image.png](attachment:10f194fc-045f-4f3a-be85-3bf20aff6e43.png)\n",
    "![image.png](attachment:627936e7-a424-4584-8651-66fb12452ec0.png)"
   ]
  },
  {
   "cell_type": "markdown",
   "id": "a86c8dca-efe5-4a51-a484-afee231c660e",
   "metadata": {},
   "source": [
    "### Найти и подсчитать подграфы"
   ]
  },
  {
   "cell_type": "code",
   "execution_count": 2,
   "id": "4650e2ac-4b4d-481b-9771-692c87c8f385",
   "metadata": {},
   "outputs": [],
   "source": [
    "def print_subgraph(driver, text_id, word_id):\n",
    "    records, _, _ = driver.execute_query(\n",
    "        \"MATCH (b)-[*]-(a) WHERE a.text_id = $text_id and a.word_id = $word_id \"\n",
    "        \"RETURN DISTINCT b.word_id ORDER BY b.word_id \",\n",
    "        text_id = text_id, word_id = word_id, database_=\"neo4j\", routing_=RoutingControl.READ,\n",
    "    )\n",
    "    sub_graph_members = []\n",
    "    for record in records:\n",
    "        sub_graph_members.append(record[\"b.word_id\"])\n",
    "        sub_graph_members.append(word_id)\n",
    "    return sorted(list(set(sub_graph_members)))"
   ]
  },
  {
   "cell_type": "code",
   "execution_count": 4,
   "id": "29b0a0d5-cd44-4cfd-94a7-1eeea3b62dc3",
   "metadata": {},
   "outputs": [],
   "source": [
    "def print_stats(driver):\n",
    "    records, _, _ = driver.execute_query(\n",
    "        \"MATCH (a) \"\n",
    "        \"RETURN DISTINCT a.text_id, COUNT(a)\",\n",
    "        database_=\"neo4j\", routing_=RoutingControl.READ,\n",
    "    )\n",
    "    dict_of_stats = {}\n",
    "    for record in records:\n",
    "        dict_of_stats[record[\"a.text_id\"]] = record[\"COUNT(a)\"]\n",
    "    return dict_of_stats"
   ]
  },
  {
   "cell_type": "code",
   "execution_count": 5,
   "id": "d82f049a-71d7-4934-ba43-5d974529a7fe",
   "metadata": {},
   "outputs": [],
   "source": [
    "with GraphDatabase.driver(URI, auth=AUTH) as driver:\n",
    "    dict_of_stats = print_stats(driver)"
   ]
  },
  {
   "cell_type": "code",
   "execution_count": 6,
   "id": "bd6266a3-9b9c-4fad-a9d5-b5c57bbd01b7",
   "metadata": {},
   "outputs": [
    {
     "data": {
      "text/plain": [
       "{1: 474, 2: 474, 3: 346, 4: 491, 5: 463, 6: 438}"
      ]
     },
     "execution_count": 6,
     "metadata": {},
     "output_type": "execute_result"
    }
   ],
   "source": [
    "dict_of_stats"
   ]
  },
  {
   "cell_type": "code",
   "execution_count": 6,
   "id": "3dfd91cc-8693-4dc7-8ed1-431208fcede0",
   "metadata": {},
   "outputs": [],
   "source": [
    "with GraphDatabase.driver(URI, auth=AUTH) as driver:\n",
    "    dict_of_subgraphs = {}\n",
    "    total_number_of_subgraphs = 0\n",
    "    for text in dict_of_stats.keys():\n",
    "        length = dict_of_stats[text]\n",
    "        all_subgraphs_for_text = []\n",
    "        for i in range(1, length + 1):\n",
    "            new_subgraph = print_subgraph(driver, text, i)\n",
    "            if new_subgraph not in all_subgraphs_for_text:\n",
    "                all_subgraphs_for_text.append(new_subgraph)\n",
    "        dict_of_subgraphs[text] = all_subgraphs_for_text\n",
    "        total_number_of_subgraphs += len(all_subgraphs_for_text)"
   ]
  },
  {
   "cell_type": "code",
   "execution_count": 7,
   "id": "e99dd71e-818e-44fe-9bf9-1fc6741ad492",
   "metadata": {},
   "outputs": [
    {
     "data": {
      "text/plain": [
       "117"
      ]
     },
     "execution_count": 7,
     "metadata": {},
     "output_type": "execute_result"
    }
   ],
   "source": [
    "total_number_of_subgraphs"
   ]
  },
  {
   "cell_type": "code",
   "execution_count": 8,
   "id": "0d00caea-df1a-4735-aa39-8c286d8fd7a6",
   "metadata": {},
   "outputs": [
    {
     "name": "stdout",
     "output_type": "stream",
     "text": [
      "[1, 2, 3, 4, 5, 6, 7, 8, 9, 10, 11, 12, 13, 14, 15, 16, 17, 18, 19, 20, 21, 22, 23, 24, 25, 26, 27]\n"
     ]
    }
   ],
   "source": [
    "print(dict_of_subgraphs[1][0])"
   ]
  },
  {
   "cell_type": "markdown",
   "id": "31124a86-16ae-42dc-88a3-623cc28403d1",
   "metadata": {},
   "source": [
    "### Раскраски (алгоритм нормально работает кажется только на деревьях...)"
   ]
  },
  {
   "cell_type": "code",
   "execution_count": 9,
   "id": "7d1b38fb-1b57-4b0a-ab60-410a603fae9a",
   "metadata": {},
   "outputs": [],
   "source": [
    "def color_first_node(driver, text_id, word_id):\n",
    "    driver.execute_query(\n",
    "        \"MATCH (a) WHERE a.text_id = $text_id and a.word_id = $word_id \"\n",
    "        \"SET a.color = 1 \",\n",
    "        text_id = text_id, word_id = word_id, database_=\"neo4j\",\n",
    "    )"
   ]
  },
  {
   "cell_type": "code",
   "execution_count": 20,
   "id": "fcfb8cf2-f561-45ef-8a64-be86600f0b97",
   "metadata": {},
   "outputs": [],
   "source": [
    "def find_neighbours(driver, text_id, word_id):\n",
    "    records, _, _ = driver.execute_query(\n",
    "        \"MATCH (b)-[]-(a) WHERE a.text_id = $text_id and a.word_id = $word_id and a.word_id <> b.word_id \"\n",
    "        \"RETURN DISTINCT b.word_id \",\n",
    "        text_id = text_id, word_id = word_id, database_=\"neo4j\", routing_=RoutingControl.READ,\n",
    "    )\n",
    "    neighbours = []\n",
    "    for record in records:\n",
    "        neighbours.append(record[\"b.word_id\"])\n",
    "    return neighbours"
   ]
  },
  {
   "cell_type": "code",
   "execution_count": 22,
   "id": "f4be5fd8-a96a-4dd0-b016-a5a36e896acc",
   "metadata": {},
   "outputs": [],
   "source": [
    "def find_inappropriate_colors(driver, text_id, word_id):\n",
    "    records, _, _ = driver.execute_query(\n",
    "        \"MATCH (b)-[]-(a) WHERE a.text_id = $text_id and a.word_id = $word_id and a.word_id <> b.word_id \"\n",
    "        \"RETURN DISTINCT b.color \",\n",
    "        text_id = text_id, word_id = word_id, database_=\"neo4j\", routing_=RoutingControl.READ,\n",
    "    )\n",
    "    colors = []\n",
    "    for record in records:\n",
    "        colors.append(record[\"b.color\"])\n",
    "    return colors"
   ]
  },
  {
   "cell_type": "code",
   "execution_count": 12,
   "id": "b4dd6015-39e9-48c4-a639-8eb62a5eff70",
   "metadata": {},
   "outputs": [],
   "source": [
    "def color_another_node(driver, text_id, word_id, color):\n",
    "    driver.execute_query(\n",
    "        \"MATCH (a) WHERE a.text_id = $text_id and a.word_id = $word_id \"\n",
    "        \"SET a.color = $color \",\n",
    "        text_id = text_id, word_id = word_id, color = color, database_=\"neo4j\",\n",
    "    )"
   ]
  },
  {
   "cell_type": "code",
   "execution_count": 25,
   "id": "108caa91-74a1-482d-8b7a-2922a9e122bb",
   "metadata": {},
   "outputs": [],
   "source": [
    "def color_subgraph(text, sentence):\n",
    "    with GraphDatabase.driver(URI, auth=AUTH) as driver:\n",
    "        ind = sentence - 1\n",
    "        nodes = dict_of_subgraphs[text][ind]\n",
    "        length = len(nodes)\n",
    "        colored = []\n",
    "        color_first_node(driver, text, nodes[0])\n",
    "        colored.append(nodes[0])\n",
    "        j = 1\n",
    "        neighbours = find_neighbours(driver, text, nodes[0])\n",
    "        while j <= length:\n",
    "            new_neighbours = []\n",
    "            for neighbour in neighbours:\n",
    "                if neighbour not in colored:\n",
    "                    inappropriate = find_inappropriate_colors(driver, text, neighbour)\n",
    "                    new_color = 1\n",
    "                    i = 1\n",
    "                    while i <= length:\n",
    "                        if new_color in inappropriate:\n",
    "                            new_color += 1\n",
    "                        i += 1\n",
    "                    color_another_node(driver, text, neighbour, new_color)\n",
    "                    colored.append(neighbour)\n",
    "                    new = find_neighbours(driver, text, neighbour)\n",
    "                    new_neighbours.extend(new)\n",
    "            neighbours = new_neighbours\n",
    "            j += 1"
   ]
  },
  {
   "cell_type": "code",
   "execution_count": 36,
   "id": "396daf9c-ff7a-44e1-ab2c-5f4aa4523362",
   "metadata": {},
   "outputs": [],
   "source": [
    "color_subgraph(1, 5)"
   ]
  },
  {
   "cell_type": "code",
   "execution_count": 28,
   "id": "344a400d-5feb-4d9b-888c-e93fe844bb0b",
   "metadata": {},
   "outputs": [],
   "source": [
    "def find_chrom_number_of_subgraph(driver, text_id, sent_id):\n",
    "    records, _, _ = driver.execute_query(\n",
    "        \"MATCH (a) WHERE a.text_id = $text_id and a.sent_id = $sent_id \"\n",
    "        \"RETURN COUNT(DISTINCT a.color) \",\n",
    "        text_id = text_id, sent_id = sent_id, database_=\"neo4j\", routing_=RoutingControl.READ,\n",
    "    )\n",
    "    for record in records:\n",
    "        print(record[\"COUNT(DISTINCT a.color)\"])"
   ]
  },
  {
   "cell_type": "code",
   "execution_count": 29,
   "id": "4a0ac710-eb7d-4d3a-9184-27318af82561",
   "metadata": {},
   "outputs": [
    {
     "name": "stdout",
     "output_type": "stream",
     "text": [
      "2\n"
     ]
    }
   ],
   "source": [
    "with GraphDatabase.driver(URI, auth=AUTH) as driver:\n",
    "    find_chrom_number_of_subgraph(driver, 1, 5)"
   ]
  },
  {
   "cell_type": "code",
   "execution_count": 37,
   "id": "fbf4073d-ddd6-41a2-b2fb-a5f8435669ab",
   "metadata": {},
   "outputs": [],
   "source": [
    "for text in dict_of_subgraphs.keys():\n",
    "    num_of_sentences = len(dict_of_subgraphs[text])\n",
    "    for i in range(1, num_of_sentences + 1):\n",
    "        color_subgraph(text, i)"
   ]
  },
  {
   "cell_type": "code",
   "execution_count": 40,
   "id": "650a23e2-de8d-441b-92e1-97d65b5c00f5",
   "metadata": {},
   "outputs": [],
   "source": [
    "def find_chrom_number(driver):\n",
    "    records, _, _ = driver.execute_query(\n",
    "        \"MATCH (a) \"\n",
    "        \"RETURN COUNT(DISTINCT a.color) \",\n",
    "        database_=\"neo4j\", routing_=RoutingControl.READ,\n",
    "    )\n",
    "    for record in records:\n",
    "        print(record[\"COUNT(DISTINCT a.color)\"])"
   ]
  },
  {
   "cell_type": "code",
   "execution_count": 41,
   "id": "0176dd88-7e14-4750-bd07-4ac10ec0683c",
   "metadata": {},
   "outputs": [
    {
     "name": "stdout",
     "output_type": "stream",
     "text": [
      "2\n"
     ]
    }
   ],
   "source": [
    "with GraphDatabase.driver(URI, auth=AUTH) as driver:\n",
    "    find_chrom_number(driver)"
   ]
  }
 ],
 "metadata": {
  "kernelspec": {
   "display_name": "Python 3 (ipykernel)",
   "language": "python",
   "name": "python3"
  },
  "language_info": {
   "codemirror_mode": {
    "name": "ipython",
    "version": 3
   },
   "file_extension": ".py",
   "mimetype": "text/x-python",
   "name": "python",
   "nbconvert_exporter": "python",
   "pygments_lexer": "ipython3",
   "version": "3.9.5"
  }
 },
 "nbformat": 4,
 "nbformat_minor": 5
}
